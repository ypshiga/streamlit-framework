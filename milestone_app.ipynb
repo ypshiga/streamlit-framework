{
 "cells": [
  {
   "cell_type": "code",
   "execution_count": null,
   "id": "818447d2",
   "metadata": {},
   "outputs": [],
   "source": [
    "# test stock API \n",
    "# Your API key is: IRC9K9I0TMTQZPK7\n",
    "import requests\n",
    "import pandas as pd\n",
    "import numpy as np\n",
    "import streamlit as st\n",
    "import time\n",
    "\n",
    "st.title('12 day Milestone Ticker app')\n",
    "st.write('Stock data test: IBM')\n",
    "\n",
    "key = 'IRC9K9I0TMTQZPK7'\n",
    "ticker_symbol = 'IBM'"
   ]
  },
  {
   "cell_type": "code",
   "execution_count": null,
   "id": "e6a41a66",
   "metadata": {},
   "outputs": [],
   "source": [
    "def request_stock_price_hist(symbol, token, sample = False):\n",
    "    if sample == False:\n",
    "        q_string = 'https://www.alphavantage.co/query?function=TIME_SERIES_DAILY_ADJUSTED&symbol={}&outputsize=full&apikey={}'\n",
    "    else:\n",
    "        q_string = 'https://www.alphavantage.co/query?function=TIME_SERIES_DAILY_ADJUSTED&symbol={}&apikey={}'\n",
    "\n",
    "    st.write(\"Retrieving stock price data from Alpha Vantage (This may take a while)...\")\n",
    "    r = requests.get(q_string.format(symbol, token))\n",
    "    st.write(\"Data has been successfully downloaded...\")\n",
    "    date = []\n",
    "    colnames = list(range(0, 7))\n",
    "    df = pd.DataFrame(columns = colnames)\n",
    "    st.write(\"Sorting the retrieved data into a dataframe...\")\n",
    "    latest_iteration = st.empty()\n",
    "    bar = st.progress(0)\n",
    "    i_tick = 0\n",
    "    df_len = (len( r.json()['Time Series (Daily)'].keys()))\n",
    "    for i in r.json()['Time Series (Daily)'].keys():\n",
    "        date.append(i)\n",
    "        row = pd.DataFrame.from_dict(r.json()['Time Series (Daily)'][i], orient='index').reset_index().T[1:]\n",
    "        df = pd.concat([df, row], ignore_index=True)\n",
    "        latest_iteration.text('Iteration ' + str((i_tick + 1)))\n",
    "        bar.progress((i_tick + 1)/df_len)\n",
    "        i_tick+=1\n",
    "        if i_tick%500==0:\n",
    "            time.sleep(0.1)\n",
    "    df.columns = [\"open\", \"high\", \"low\", \"close\", \"adjusted close\", \"volume\", \"dividend amount\", \"split cf\"]\n",
    "    df['date'] = date\n",
    "    return df"
   ]
  },
  {
   "cell_type": "code",
   "execution_count": null,
   "id": "fe8928ef",
   "metadata": {},
   "outputs": [],
   "source": [
    "'Here we go...'\n",
    "\n",
    "df = request_stock_price_hist('IBM', key)\n",
    "'...all done!'"
   ]
  },
  {
   "cell_type": "code",
   "execution_count": null,
   "id": "2c4299da",
   "metadata": {},
   "outputs": [],
   "source": [
    "st.write(df)"
   ]
  },
  {
   "cell_type": "code",
   "execution_count": null,
   "id": "033ecb8f",
   "metadata": {},
   "outputs": [],
   "source": []
  }
 ],
 "metadata": {
  "kernelspec": {
   "display_name": "Python 3",
   "language": "python",
   "name": "python3"
  },
  "language_info": {
   "codemirror_mode": {
    "name": "ipython",
    "version": 3
   },
   "file_extension": ".py",
   "mimetype": "text/x-python",
   "name": "python",
   "nbconvert_exporter": "python",
   "pygments_lexer": "ipython3",
   "version": "3.8.10"
  }
 },
 "nbformat": 4,
 "nbformat_minor": 5
}
